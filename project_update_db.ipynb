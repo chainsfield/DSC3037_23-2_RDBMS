{
 "cells": [
  {
   "cell_type": "code",
   "execution_count": 1,
   "metadata": {},
   "outputs": [],
   "source": [
    "import csv\n",
    "import mysql.connector\n",
    "from datetime import datetime"
   ]
  },
  {
   "cell_type": "code",
   "execution_count": 2,
   "metadata": {},
   "outputs": [],
   "source": [
    "# Use this code only first you create your database\n",
    "mydb = mysql.connector.connect(\n",
    "    host = \"localhost\",\n",
    "    user= \"root\",\n",
    "    passwd = \"5789\"  \n",
    ")\n",
    "mycursor = mydb.cursor()\n",
    "mycursor.execute(\"CREATE DATABASE IF NOT EXISTS db_project\")"
   ]
  },
  {
   "cell_type": "code",
   "execution_count": 3,
   "metadata": {},
   "outputs": [],
   "source": [
    "def connectDB(db_use):\n",
    "    mydb = mysql.connector.connect(\n",
    "        host = \"localhost\",\n",
    "        user= \"root\",\n",
    "        passwd = \"5789\",\n",
    "        database = db_use\n",
    "    )\n",
    "    mycursor = mydb.cursor(prepared=True)\n",
    "    return mydb, mycursor\n",
    "\n",
    "mydb, myCursor = connectDB(\"db_project\")"
   ]
  },
  {
   "cell_type": "code",
   "execution_count": 4,
   "metadata": {},
   "outputs": [],
   "source": [
    "# movies table\n",
    "myCursor.execute(\"CREATE TABLE IF NOT EXISTS movies(movie_id INT PRIMARY KEY, title VARCHAR(255), last_update DATE, release_year SMALLINT, rating VARCHAR(255), duration SMALLINT, description TEXT)\")\n",
    "with open('./for_use/movies.csv', encoding='UTF-8') as csvfile:\n",
    "    movies_data = csv.reader(csvfile)\n",
    "    header = next(movies_data)  # Skip header\n",
    "    for data in movies_data:\n",
    "        last_update = datetime.strptime(data[3], '%Y%m%d').date()\n",
    "        myCursor.execute(\"INSERT INTO movies(movie_id, title, last_update, release_year, rating, duration, description) VALUES (%s, %s, %s, %s, %s, %s, %s)\", (int(data[1]), data[2], last_update, int(data[4]), data[5], int(data[6]), data[7]))\n",
    "mydb.commit()"
   ]
  },
  {
   "cell_type": "code",
   "execution_count": 5,
   "metadata": {},
   "outputs": [],
   "source": [
    "# ott_service table\n",
    "myCursor.execute(\"CREATE TABLE IF NOT EXISTS ott_service (movie_id INT PRIMARY KEY, ott_service VARCHAR(255), last_update DATE)\")\n",
    "\n",
    "with open('./for_use/ott_service.csv', encoding='UTF-8') as csvfile:\n",
    "    ott_data = csv.reader(csvfile)\n",
    "    header = next(ott_data)  # Skip header\n",
    "    for data in ott_data:\n",
    "        last_update = datetime.strptime(data[3], '%Y%m%d').date()\n",
    "        myCursor.execute(\"INSERT INTO ott_service (movie_id, ott_service, last_update) VALUES (%s, %s, %s)\", (int(data[1]), data[2], last_update))\n",
    "mydb.commit()"
   ]
  },
  {
   "cell_type": "code",
   "execution_count": 6,
   "metadata": {},
   "outputs": [],
   "source": [
    "# direct table\n",
    "myCursor.execute(\"CREATE TABLE IF NOT EXISTS direct (movie_id INT, director_id INT, last_update DATE, PRIMARY KEY (movie_id, director_id))\")\n",
    "\n",
    "with open('./for_use/direct.csv', encoding='UTF-8') as csvfile:\n",
    "    director_data = csv.reader(csvfile)\n",
    "    header = next(director_data)  # Skip header\n",
    "    for data in director_data:\n",
    "        last_update = datetime.strptime(data[3], '%Y%m%d').date()\n",
    "        myCursor.execute(\"INSERT INTO direct (movie_id, director_id, last_update) VALUES (%s, %s, %s)\", (int(data[1]), int(data[2]), last_update))\n",
    "mydb.commit()"
   ]
  },
  {
   "cell_type": "code",
   "execution_count": 7,
   "metadata": {},
   "outputs": [],
   "source": [
    "# director table\n",
    "myCursor.execute(\"CREATE TABLE IF NOT EXISTS director (director_id INT PRIMARY KEY, director_name VARCHAR(255), last_update DATE)\")\n",
    "\n",
    "with open('./for_use/director.csv', encoding='UTF-8') as csvfile:\n",
    "    director_data = csv.reader(csvfile)\n",
    "    header = next(director_data)  # Skip header\n",
    "    for data in director_data:\n",
    "        last_update = datetime.strptime(data[3], '%Y%m%d').date()\n",
    "        myCursor.execute(\"INSERT INTO director (director_id, director_name, last_update) VALUES (%s, %s, %s)\", (int(data[1]), data[2], last_update))\n",
    "mydb.commit()"
   ]
  },
  {
   "cell_type": "code",
   "execution_count": 8,
   "metadata": {},
   "outputs": [],
   "source": [
    "# cast table\n",
    "myCursor.execute(\"CREATE TABLE IF NOT EXISTS cast (movie_id INT, actor_id INT, last_update DATE, PRIMARY KEY (movie_id, actor_id))\")\n",
    "\n",
    "with open('./for_use/cast.csv', encoding='UTF-8') as csvfile:\n",
    "    cast_data = csv.reader(csvfile)\n",
    "    header = next(cast_data)  # Skip header\n",
    "    for data in cast_data:\n",
    "        last_update = datetime.strptime(data[3], '%Y%m%d').date()\n",
    "        myCursor.execute(\"INSERT INTO cast (movie_id, actor_id, last_update) VALUES (%s, %s, %s)\", (int(data[1]), int(data[2]), last_update))\n",
    "mydb.commit()"
   ]
  },
  {
   "cell_type": "code",
   "execution_count": 9,
   "metadata": {},
   "outputs": [],
   "source": [
    "# actor table\n",
    "myCursor.execute(\"CREATE TABLE IF NOT EXISTS actor (actor_id INT PRIMARY KEY, actor_name VARCHAR(255), last_update DATE)\")\n",
    "\n",
    "with open('./for_use/actor.csv', encoding='UTF-8') as csvfile:\n",
    "    actor_data = csv.reader(csvfile)\n",
    "    header = next(actor_data)  # Skip header\n",
    "    for data in actor_data:\n",
    "        last_update = datetime.strptime(data[3], '%Y%m%d').date()\n",
    "        myCursor.execute(\"INSERT INTO actor (actor_id, actor_name, last_update) VALUES (%s, %s, %s)\", (int(data[1]), data[2], last_update))\n",
    "mydb.commit()"
   ]
  },
  {
   "cell_type": "code",
   "execution_count": 10,
   "metadata": {},
   "outputs": [],
   "source": [
    "# movies_genre table\n",
    "myCursor.execute(\"CREATE TABLE IF NOT EXISTS movies_genre (movie_id INT, genre_id INT, last_update DATE, PRIMARY KEY (movie_id, genre_id))\")\n",
    "\n",
    "with open('./for_use/movies_genre.csv', encoding='UTF-8') as csvfile:\n",
    "    movies_genre_data = csv.reader(csvfile)\n",
    "    header = next(movies_genre_data)  # Skip header\n",
    "    for data in movies_genre_data:\n",
    "        last_update = datetime.strptime(data[3], '%Y%m%d').date()\n",
    "        myCursor.execute(\"INSERT INTO movies_genre (movie_id, genre_id, last_update) VALUES (%s, %s, %s)\", (int(data[1]), int(data[2]), last_update))\n",
    "mydb.commit()"
   ]
  },
  {
   "cell_type": "code",
   "execution_count": 11,
   "metadata": {},
   "outputs": [],
   "source": [
    "# genre table\n",
    "myCursor.execute(\"CREATE TABLE IF NOT EXISTS genre (genre_id INT PRIMARY KEY, genre_name VARCHAR(255), last_update DATE)\")\n",
    "\n",
    "with open('./for_use/genre.csv', encoding='UTF-8') as csvfile:\n",
    "    genre_data = csv.reader(csvfile)\n",
    "    header = next(genre_data)  # Skip header\n",
    "    for data in genre_data:\n",
    "        last_update = datetime.strptime(data[3], '%Y%m%d').date()\n",
    "        myCursor.execute(\"INSERT INTO genre (genre_id, genre_name, last_update) VALUES (%s, %s, %s)\", (int(data[1]), data[2], last_update))\n",
    "mydb.commit()"
   ]
  },
  {
   "cell_type": "code",
   "execution_count": 12,
   "metadata": {},
   "outputs": [],
   "source": [
    "# movies_country table\n",
    "myCursor.execute(\"CREATE TABLE IF NOT EXISTS movies_country (movie_id INT, country_id INT, last_update DATE, PRIMARY KEY (movie_id, country_id))\")\n",
    "\n",
    "with open('./for_use/movies_genre.csv', encoding='UTF-8') as csvfile:\n",
    "    movies_country_data = csv.reader(csvfile)\n",
    "    header = next(movies_country_data)  # Skip header\n",
    "    for data in movies_country_data:\n",
    "        last_update = datetime.strptime(data[3], '%Y%m%d').date()\n",
    "        myCursor.execute(\"INSERT INTO movies_country (movie_id, country_id, last_update) VALUES (%s, %s, %s)\", (int(data[1]), int(data[2]), last_update))\n",
    "mydb.commit()"
   ]
  },
  {
   "cell_type": "code",
   "execution_count": 15,
   "metadata": {},
   "outputs": [],
   "source": [
    "# country table\n",
    "myCursor.execute(\"CREATE TABLE IF NOT EXISTS country (country_id INT PRIMARY KEY, country_name VARCHAR(255), last_update DATE)\")\n",
    "\n",
    "with open('./for_use/country.csv', encoding='UTF-8') as csvfile:\n",
    "    country_data = csv.reader(csvfile)\n",
    "    header = next(country_data)  # Skip header\n",
    "    for data in country_data:\n",
    "        last_update = datetime.strptime(data[3], '%Y%m%d').date()\n",
    "        myCursor.execute(\"INSERT INTO country (country_id, country_name, last_update) VALUES (%s, %s, %s)\", (int(data[1]), data[2], last_update))\n",
    "mydb.commit()"
   ]
  }
 ],
 "metadata": {
  "kernelspec": {
   "display_name": "base",
   "language": "python",
   "name": "python3"
  },
  "language_info": {
   "codemirror_mode": {
    "name": "ipython",
    "version": 3
   },
   "file_extension": ".py",
   "mimetype": "text/x-python",
   "name": "python",
   "nbconvert_exporter": "python",
   "pygments_lexer": "ipython3",
   "version": "3.11.5"
  }
 },
 "nbformat": 4,
 "nbformat_minor": 2
}
