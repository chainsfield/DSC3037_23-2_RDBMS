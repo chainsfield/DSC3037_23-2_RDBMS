{
 "cells": [
  {
   "cell_type": "code",
   "execution_count": 42,
   "metadata": {},
   "outputs": [],
   "source": [
    "import pandas as pd\n",
    "import numpy as np\n",
    "from tqdm import tqdm\n",
    "from datetime import datetime as dt\n",
    "import re"
   ]
  },
  {
   "cell_type": "code",
   "execution_count": 43,
   "metadata": {},
   "outputs": [],
   "source": [
    "# get csv file to dataframe\n",
    "amazon_movies = pd.read_csv(\"./raw_data/amazon_prime_titles.csv\")\n",
    "disney_movies = pd.read_csv(\"./raw_data/disney_plus_titles.csv\")\n",
    "hulu_movies = pd.read_csv(\"./raw_data/hulu_titles.csv\")\n",
    "netflix_movies = pd.read_csv(\"./raw_data/netflix_titles.csv\")"
   ]
  },
  {
   "cell_type": "code",
   "execution_count": 44,
   "metadata": {},
   "outputs": [],
   "source": [
    "# add ott_service column before merging\n",
    "amazon_movies['ott_id'] = 1\n",
    "disney_movies['ott_id'] = 2\n",
    "hulu_movies['ott_id'] = 3\n",
    "netflix_movies['ott_id'] = 4"
   ]
  },
  {
   "cell_type": "code",
   "execution_count": 45,
   "metadata": {},
   "outputs": [],
   "source": [
    "# concat 3 ott dataframes\n",
    "movies = pd.concat([netflix_movies,disney_movies,amazon_movies,hulu_movies], ignore_index=True)\n",
    "movies = movies[movies['type']=='Movie'] # this is movie program\n",
    "movies = movies.reset_index(drop=True)"
   ]
  },
  {
   "cell_type": "code",
   "execution_count": 46,
   "metadata": {},
   "outputs": [],
   "source": [
    "# pre-processing\n",
    "movies = movies.rename(columns={'show_id': 'movie_id'})\n",
    "movies.movie_id = pd.to_numeric(movies.index + 1)\n",
    "movies = movies.rename(columns={'date_added': 'last_update'})\n",
    "movies.last_update = movies.last_update.fillna('January 1, 1970')\n",
    "movies.last_update = pd.to_datetime(movies.last_update).dt.strftime('%Y%m%d')\n",
    "movies.last_update = pd.to_numeric(movies.last_update)\n",
    "movies = movies.fillna('no info')\n",
    "movies.duration = pd.to_numeric(movies.duration.apply(lambda x: '000' if x == 'no info' else x.replace(' min', '')))\n",
    "movies.release_year = movies.release_year.apply(lambda x: '0000' if x == 'no info' else x)\n",
    "movies.rating = movies.rating.apply(lambda x: x.replace('TV-MA', 'R').replace('16+', 'R').replace('TV-14', 'PG-13').replace('ALL', 'G').replace('18+', 'NC-17').replace('13+', 'PG').replace('TV-G', 'G').replace('7+', 'G').replace('TV-Y', 'G').replace('G7', 'G').replace('G-FV', 'G').replace('TV-PG', 'PG').replace('TV-Y', 'G').replace('TV-Y7', 'G'))\n",
    "movies.rating = movies.rating.apply(lambda x: 'no info' if x not in ['R', 'PG-13', 'PG', 'G', 'NC-17'] else x)"
   ]
  },
  {
   "cell_type": "code",
   "execution_count": 47,
   "metadata": {},
   "outputs": [],
   "source": [
    "# for ott table\n",
    "ott_service = pd.DataFrame({\n",
    "    'ott_id': [1, 2, 3, 4],\n",
    "    'ott_service': ['amazon_prime','netflix','hulu','disney_plus'],\n",
    "    'last_update':[movies['last_update'].max()]*4                      \n",
    "    })"
   ]
  },
  {
   "cell_type": "code",
   "execution_count": null,
   "metadata": {},
   "outputs": [],
   "source": [
    "# for director table\n",
    "tmp = pd.melt(movies.director.str.split(', ', expand=True).reset_index(), id_vars='index', var_name='tmp', value_name='director_name')\n",
    "tmp = tmp.drop(columns=['tmp']).rename(columns={'index':'movie_id'}).dropna()\n",
    "tmp.director_name = tmp.director_name.apply(lambda x: x.lower().replace('_',' ').lstrip().replace('.','. ').replace('  ',' ').replace(' director','').replace('knigjht','knight').replace('knioght','knight'))\n",
    "tmp.director_name = tmp.director_name.apply(lambda x: 'no info' if 'validcapi' in x or 'test' in x else x)\n",
    "tmp.director_name = tmp.director_name.apply(lambda x: 'alex winter' if 'director alex winter' in x else x)\n",
    "tmp.director_name = tmp.director_name.apply(lambda x: 'gigi saul guerrero' if 'director gigi saul guerrero' in x else x)\n",
    "tmp.director_name = tmp.director_name.apply(lambda x: 'jennifer kent' if 'director jennifer kent' in x else x)\n",
    "tmp.director_name = tmp.director_name.apply(lambda x: 'kids 1st tv' if 'kids 1st tv' in x else x)\n",
    "tmp.director_name = tmp.director_name.apply(lambda x: 'no info' if '1' == x else x)\n",
    "tmp = tmp.drop_duplicates(subset=['movie_id', 'director_name'], keep='first')\n",
    "tmp.movie_id+=1\n",
    "tmp = pd.merge(tmp, movies[['movie_id','last_update']], on='movie_id', how='left')\n",
    "director_tmp = pd.Series(sorted(list(set(tmp.director_name))))\n",
    "director = pd.DataFrame({'director_id':director_tmp.index+1,'director_name':director_tmp,'last_update':[movies.last_update.max()]*len(director_tmp)})"
   ]
  },
  {
   "cell_type": "code",
   "execution_count": null,
   "metadata": {},
   "outputs": [],
   "source": [
    "# for direct table\n",
    "direct = pd.merge(tmp, director[['director_id','director_name']], on='director_name')\n",
    "direct = direct.sort_values(by=['movie_id']).reset_index(drop=True).drop(columns=['director_name'])\n",
    "direct = direct[['movie_id','director_id','last_update']]"
   ]
  },
  {
   "cell_type": "code",
   "execution_count": null,
   "metadata": {},
   "outputs": [],
   "source": [
    "# for actor table\n",
    "ban_list = ['','1','2','3','A','Test Actor 1','Test Actor 2','Test Actor1 US']\n",
    "tmp = pd.melt(movies.cast.str.split(', ', expand=True).reset_index(), id_vars='index', var_name='tmp', value_name='actor_name')\n",
    "tmp = tmp.drop(columns=['tmp']).rename(columns={'index':'movie_id'}).dropna()\n",
    "tmp.actor_name = tmp.actor_name.apply(lambda x: 'no info' if x in ban_list else x.lower().replace('\\'', ' ').replace('\\\"', ' ').lstrip().replace('  ',' '))\n",
    "tmp.actor_name = tmp.actor_name.apply(lambda x: 'samantha bond' if 'samantha bond' in x else x)\n",
    "tmp = tmp.drop_duplicates(subset=['movie_id', 'actor_name'], keep='first')\n",
    "tmp.movie_id+=1\n",
    "tmp = pd.merge(tmp, movies[['movie_id','last_update']], on='movie_id', how='left')\n",
    "actor_tmp = pd.Series(sorted(list(set(tmp.actor_name))))\n",
    "actor = pd.DataFrame({'actor_id':actor_tmp.index+1,'actor_name':actor_tmp,'last_update':[movies.last_update.max()]*len(actor_tmp)})"
   ]
  },
  {
   "cell_type": "code",
   "execution_count": null,
   "metadata": {},
   "outputs": [],
   "source": [
    "# for cast table\n",
    "cast = pd.merge(tmp, actor[['actor_id','actor_name']], on='actor_name')\n",
    "cast = cast.sort_values(by=['movie_id']).reset_index(drop=True).drop(columns=['actor_name'])\n",
    "cast = cast[['movie_id','actor_id','last_update']]"
   ]
  },
  {
   "cell_type": "code",
   "execution_count": null,
   "metadata": {},
   "outputs": [],
   "source": [
    "# for genre table\n",
    "tmp = pd.melt(movies.listed_in.str.split(', ', expand=True).reset_index(), id_vars='index', var_name='tmp', value_name='genre_name')\n",
    "tmp = tmp.drop(columns=['tmp']).rename(columns={'index':'movie_id'}).dropna()\n",
    "tmp.genre_name = tmp.genre_name.apply(lambda x: x.lower().lstrip().replace(' features','').replace(' film','').replace(' movies','').replace('anime','animation').replace('/',' and ').replace('-',' and ').replace('and','&').replace('classics','classic').replace('comedies','comedy').replace('dramas','drama').replace('documentaries','documentary').replace('romantic','romance').replace('and culture','culture'))\n",
    "tmp = tmp.drop_duplicates(subset=['movie_id', 'genre_name'], keep='first')\n",
    "tmp.movie_id+=1\n",
    "tmp = pd.merge(tmp, movies[['movie_id','last_update']], on='movie_id', how='left')\n",
    "genre_tmp = pd.Series(sorted(list(set(tmp.genre_name))))\n",
    "genre = pd.DataFrame({'genre_id':genre_tmp.index+1, 'genre_name':genre_tmp, 'last_update':[movies.last_update.max()]*len(genre_tmp)})"
   ]
  },
  {
   "cell_type": "code",
   "execution_count": null,
   "metadata": {},
   "outputs": [],
   "source": [
    "# for movies_genre table\n",
    "movies_genre = pd.merge(tmp, genre[['genre_id','genre_name']], on='genre_name')\n",
    "movies_genre = movies_genre.sort_values(by=['movie_id']).reset_index(drop=True).drop(columns=['genre_name'])\n",
    "movies_genre = movies_genre[['movie_id','genre_id','last_update']]"
   ]
  },
  {
   "cell_type": "code",
   "execution_count": null,
   "metadata": {},
   "outputs": [],
   "source": [
    "# country table\n",
    "tmp = pd.melt(movies.country.str.split(', ', expand=True).reset_index(), id_vars='index', var_name='tmp', value_name='country_name')\n",
    "tmp = tmp.drop(columns=['tmp']).rename(columns={'index':'movie_id'}).dropna().drop_duplicates(subset=['movie_id', 'country_name'], keep='first')\n",
    "tmp.movie_id+=1\n",
    "tmp = pd.merge(tmp, movies[['movie_id','last_update']], on='movie_id', how='left')\n",
    "tmp.country_name = tmp.country_name.apply(lambda x: 'no info' if len(x) < 3 else x.replace(',',''))\n",
    "country_tmp = pd.Series(sorted(list(set(tmp.country_name))))\n",
    "country = pd.DataFrame({'country_id':country_tmp.index+1, 'country_name':country_tmp, 'last_update':[movies.last_update.max()]*len(country_tmp)})"
   ]
  },
  {
   "cell_type": "code",
   "execution_count": null,
   "metadata": {},
   "outputs": [],
   "source": [
    "# for movies_country table\n",
    "movies_country = pd.merge(tmp, country[['country_id','country_name']], on='country_name')\n",
    "movies_country = movies_country.sort_values(by=['movie_id']).reset_index(drop=True).drop(columns=['country_name'])\n",
    "movies_country = movies_country[['movie_id','country_id','last_update']]"
   ]
  },
  {
   "cell_type": "code",
   "execution_count": null,
   "metadata": {},
   "outputs": [],
   "source": [
    "# drop unusing columns\n",
    "processed_movies = movies.drop(columns=['type','director','cast','country','listed_in'])"
   ]
  },
  {
   "cell_type": "code",
   "execution_count": null,
   "metadata": {},
   "outputs": [],
   "source": [
    "# save dataframes to csv file\n",
    "processed_movies.to_csv('./for_use/movies.csv')\n",
    "ott_service.to_csv('./for_use/ott_service.csv')\n",
    "director.to_csv('./for_use/director.csv')\n",
    "direct.to_csv('./for_use/direct.csv')\n",
    "actor.to_csv('./for_use/actor.csv')\n",
    "cast.to_csv('./for_use/cast.csv')\n",
    "genre.to_csv('./for_use/genre.csv')\n",
    "movies_genre.to_csv('./for_use/movies_genre.csv')\n",
    "country.to_csv('./for_use/country.csv')\n",
    "movies_country.to_csv('./for_use/movies_country.csv')"
   ]
  }
 ],
 "metadata": {
  "kernelspec": {
   "display_name": "base",
   "language": "python",
   "name": "python3"
  },
  "language_info": {
   "codemirror_mode": {
    "name": "ipython",
    "version": 3
   },
   "file_extension": ".py",
   "mimetype": "text/x-python",
   "name": "python",
   "nbconvert_exporter": "python",
   "pygments_lexer": "ipython3",
   "version": "3.11.5"
  }
 },
 "nbformat": 4,
 "nbformat_minor": 2
}
